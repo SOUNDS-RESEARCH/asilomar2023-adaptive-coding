{
 "cells": [
  {
   "cell_type": "code",
   "execution_count": 2,
   "metadata": {},
   "outputs": [],
   "source": [
    "import numpy as np\n",
    "import matplotlib.pyplot as plt\n",
    "import pandas as pd\n",
    "import admm_fq_base as adf\n",
    "import utils\n",
    "import importlib\n",
    "import seaborn as sns\n",
    "import pickle\n",
    "\n",
    "\n",
    "# import cvxpy\n",
    "def getPart(index) -> int:\n",
    "    return int(np.floor(index / part_len))\n",
    "\n"
   ]
  },
  {
   "cell_type": "code",
   "execution_count": 3,
   "metadata": {},
   "outputs": [
    {
     "data": {
      "text/plain": [
       "<module 'admm_fq_base' from '/home/matthias/repos/asilomar2023/asilomar2023sim/src/admm_fq_base.py'>"
      ]
     },
     "execution_count": 3,
     "metadata": {},
     "output_type": "execute_result"
    }
   ],
   "source": [
    "importlib.reload(adf)"
   ]
  },
  {
   "cell_type": "code",
   "execution_count": 4,
   "metadata": {},
   "outputs": [],
   "source": [
    "rng = np.random.default_rng()"
   ]
  },
  {
   "cell_type": "code",
   "execution_count": 5,
   "metadata": {},
   "outputs": [],
   "source": [
    "L = 4"
   ]
  },
  {
   "cell_type": "code",
   "execution_count": 6,
   "metadata": {},
   "outputs": [],
   "source": [
    "nw = adf.Network(L, rng)\n",
    "nw.addNode(0)\n",
    "nw.addNode(1)\n",
    "nw.addNode(2)\n",
    "nw.setConnection(0, [1])\n",
    "nw.setConnection(1, [2])\n",
    "nw.setConnection(2, [0])"
   ]
  },
  {
   "cell_type": "code",
   "execution_count": 7,
   "metadata": {},
   "outputs": [],
   "source": [
    "SNR = 20\n",
    "SNR_c = np.inf\n",
    "rho = 1\n",
    "stepsize = 0.8\n",
    "eta = 0.98\n",
    "M = nw.N\n",
    "nr_samples = 100000\n",
    "partitions = 2\n",
    "part_len = int(nr_samples / partitions)\n",
    "runs = 20"
   ]
  },
  {
   "cell_type": "code",
   "execution_count": 8,
   "metadata": {},
   "outputs": [],
   "source": [
    "def saveTransmissionHist(node1, node2, var_name, delta, var):\n",
    "    if delta not in transmission_hist:\n",
    "        transmission_hist[delta] = {}\n",
    "    if var_name not in transmission_hist[delta]:\n",
    "        transmission_hist[delta][var_name] = {}\n",
    "    if node1 not in transmission_hist[delta][var_name]:\n",
    "        transmission_hist[delta][var_name][node1] = {}\n",
    "    if node2 not in transmission_hist[delta][var_name][node1]:\n",
    "        transmission_hist[delta][var_name][node1][node2] = {}\n",
    "    # transmission_hist[delta][var_name][node1][node2].append(var)\n",
    "    d = np.concatenate([np.real(var), np.imag(var)])\n",
    "    vals, counts = np.unique(d, return_counts=True)\n",
    "    for i, val in enumerate(vals):\n",
    "        if val not in transmission_hist[delta][var_name][node1][node2]:\n",
    "            transmission_hist[delta][var_name][node1][node2][val] = 0\n",
    "        transmission_hist[delta][var_name][node1][node2][val] += counts[i]\n",
    "    pass"
   ]
  },
  {
   "cell_type": "code",
   "execution_count": 9,
   "metadata": {},
   "outputs": [
    {
     "name": "stdout",
     "output_type": "stream",
     "text": [
      "Run: 0\n"
     ]
    },
    {
     "ename": "KeyboardInterrupt",
     "evalue": "",
     "output_type": "error",
     "traceback": [
      "\u001b[0;31m---------------------------------------------------------------------------\u001b[0m",
      "\u001b[0;31mKeyboardInterrupt\u001b[0m                         Traceback (most recent call last)",
      "\u001b[1;32m/home/matthias/repos/asilomar2023/asilomar2023sim/src/residual_distribution_plot.ipynb Cell 8\u001b[0m line \u001b[0;36m3\n\u001b[1;32m     <a href='vscode-notebook-cell:/home/matthias/repos/asilomar2023/asilomar2023sim/src/residual_distribution_plot.ipynb#X10sZmlsZQ%3D%3D?line=31'>32</a>\u001b[0m nw\u001b[39m.\u001b[39msetDeltas(deltas)\n\u001b[1;32m     <a href='vscode-notebook-cell:/home/matthias/repos/asilomar2023/asilomar2023sim/src/residual_distribution_plot.ipynb#X10sZmlsZQ%3D%3D?line=32'>33</a>\u001b[0m \u001b[39mfor\u001b[39;00m k_admm_fq \u001b[39min\u001b[39;00m \u001b[39mrange\u001b[39m(\u001b[39m0\u001b[39m, nr_samples \u001b[39m-\u001b[39m \u001b[39m2\u001b[39m \u001b[39m*\u001b[39m L, hopsize):\n\u001b[0;32m---> <a href='vscode-notebook-cell:/home/matthias/repos/asilomar2023/asilomar2023sim/src/residual_distribution_plot.ipynb#X10sZmlsZQ%3D%3D?line=33'>34</a>\u001b[0m     nw\u001b[39m.\u001b[39;49mstep(noisy_signals[k_admm_fq : k_admm_fq \u001b[39m+\u001b[39;49m \u001b[39m2\u001b[39;49m \u001b[39m*\u001b[39;49m L, :])\n\u001b[1;32m     <a href='vscode-notebook-cell:/home/matthias/repos/asilomar2023/asilomar2023sim/src/residual_distribution_plot.ipynb#X10sZmlsZQ%3D%3D?line=34'>35</a>\u001b[0m \u001b[39m#     error = []\u001b[39;00m\n\u001b[1;32m     <a href='vscode-notebook-cell:/home/matthias/repos/asilomar2023/asilomar2023sim/src/residual_distribution_plot.ipynb#X10sZmlsZQ%3D%3D?line=35'>36</a>\u001b[0m \u001b[39m#     for m in range(M):\u001b[39;00m\n\u001b[1;32m     <a href='vscode-notebook-cell:/home/matthias/repos/asilomar2023/asilomar2023sim/src/residual_distribution_plot.ipynb#X10sZmlsZQ%3D%3D?line=36'>37</a>\u001b[0m \u001b[39m#         node: adf.NodeProcessor = nw.nodes[m]\u001b[39;00m\n\u001b[0;32m   (...)\u001b[0m\n\u001b[1;32m     <a href='vscode-notebook-cell:/home/matthias/repos/asilomar2023/asilomar2023sim/src/residual_distribution_plot.ipynb#X10sZmlsZQ%3D%3D?line=41'>42</a>\u001b[0m \u001b[39m#     npm.append(error)\u001b[39;00m\n\u001b[1;32m     <a href='vscode-notebook-cell:/home/matthias/repos/asilomar2023/asilomar2023sim/src/residual_distribution_plot.ipynb#X10sZmlsZQ%3D%3D?line=42'>43</a>\u001b[0m \u001b[39m# npm = np.asarray(npm)\u001b[39;00m\n",
      "File \u001b[0;32m~/repos/asilomar2023/asilomar2023sim/src/admm_fq_base.py:344\u001b[0m, in \u001b[0;36mNetwork.step\u001b[0;34m(self, signal)\u001b[0m\n\u001b[1;32m    342\u001b[0m \u001b[39mself\u001b[39m\u001b[39m.\u001b[39msetSignals(signal_f)\n\u001b[1;32m    343\u001b[0m \u001b[39mself\u001b[39m\u001b[39m.\u001b[39mtransmitSignals()\n\u001b[0;32m--> 344\u001b[0m \u001b[39mself\u001b[39;49m\u001b[39m.\u001b[39;49mlocalPrimalUpdate()\n\u001b[1;32m    345\u001b[0m \u001b[39mself\u001b[39m\u001b[39m.\u001b[39mtransmitLocalVar()\n\u001b[1;32m    346\u001b[0m \u001b[39mself\u001b[39m\u001b[39m.\u001b[39mcomputeConsensus()\n",
      "File \u001b[0;32m~/repos/asilomar2023/asilomar2023sim/src/admm_fq_base.py:391\u001b[0m, in \u001b[0;36mNetwork.localPrimalUpdate\u001b[0;34m(self)\u001b[0m\n\u001b[1;32m    389\u001b[0m node: NodeProcessor\n\u001b[1;32m    390\u001b[0m \u001b[39mfor\u001b[39;00m node \u001b[39min\u001b[39;00m \u001b[39mself\u001b[39m\u001b[39m.\u001b[39mnodes\u001b[39m.\u001b[39mvalues():\n\u001b[0;32m--> 391\u001b[0m     node\u001b[39m.\u001b[39;49msolveLocal()\n",
      "File \u001b[0;32m~/repos/asilomar2023/asilomar2023sim/src/admm_fq_base.py:218\u001b[0m, in \u001b[0;36mNodeProcessor.solveLocal\u001b[0;34m(self)\u001b[0m\n\u001b[1;32m    217\u001b[0m \u001b[39mdef\u001b[39;00m \u001b[39msolveLocal\u001b[39m(\u001b[39mself\u001b[39m):\n\u001b[0;32m--> 218\u001b[0m     R \u001b[39m=\u001b[39m \u001b[39mself\u001b[39;49m\u001b[39m.\u001b[39;49mconstruct_Rxp()  \u001b[39m# construct matrix R_x+\u001b[39;00m\n\u001b[1;32m    219\u001b[0m     \u001b[39mself\u001b[39m\u001b[39m.\u001b[39mR_xp_ \u001b[39m=\u001b[39m R \u001b[39mif\u001b[39;00m \u001b[39mself\u001b[39m\u001b[39m.\u001b[39mfirst \u001b[39melse\u001b[39;00m \u001b[39mself\u001b[39m\u001b[39m.\u001b[39meta \u001b[39m*\u001b[39m \u001b[39mself\u001b[39m\u001b[39m.\u001b[39mR_xp_ \u001b[39m+\u001b[39m (\u001b[39m1\u001b[39m \u001b[39m-\u001b[39m \u001b[39mself\u001b[39m\u001b[39m.\u001b[39meta) \u001b[39m*\u001b[39m R\n\u001b[1;32m    220\u001b[0m     y \u001b[39m=\u001b[39m (\n\u001b[1;32m    221\u001b[0m         \u001b[39mself\u001b[39m\u001b[39m.\u001b[39mR_xp_ \u001b[39m@\u001b[39m \u001b[39mself\u001b[39m\u001b[39m.\u001b[39mx\n\u001b[1;32m    222\u001b[0m         \u001b[39m+\u001b[39m \u001b[39mself\u001b[39m\u001b[39m.\u001b[39mlambd \u001b[39m*\u001b[39m \u001b[39mself\u001b[39m\u001b[39m.\u001b[39mx\n\u001b[1;32m    223\u001b[0m         \u001b[39m+\u001b[39m \u001b[39mself\u001b[39m\u001b[39m.\u001b[39my\n\u001b[1;32m    224\u001b[0m         \u001b[39m+\u001b[39m \u001b[39mself\u001b[39m\u001b[39m.\u001b[39mrho \u001b[39m*\u001b[39m (\u001b[39mself\u001b[39m\u001b[39m.\u001b[39mx \u001b[39m-\u001b[39m \u001b[39mself\u001b[39m\u001b[39m.\u001b[39mz_l)\n\u001b[1;32m    225\u001b[0m     )\n",
      "File \u001b[0;32m~/repos/asilomar2023/asilomar2023sim/src/admm_fq_base.py:236\u001b[0m, in \u001b[0;36mNodeProcessor.construct_Rxp\u001b[0;34m(self)\u001b[0m\n\u001b[1;32m    234\u001b[0m \u001b[39mfor\u001b[39;00m i \u001b[39min\u001b[39;00m \u001b[39mrange\u001b[39m(\u001b[39mself\u001b[39m\u001b[39m.\u001b[39mN):\n\u001b[1;32m    235\u001b[0m     \u001b[39mfor\u001b[39;00m j \u001b[39min\u001b[39;00m \u001b[39mrange\u001b[39m(\u001b[39mself\u001b[39m\u001b[39m.\u001b[39mN):\n\u001b[0;32m--> 236\u001b[0m         R_xx \u001b[39m=\u001b[39m \u001b[39mself\u001b[39;49m\u001b[39m.\u001b[39;49mcompute_Rxx(i, j)\n\u001b[1;32m    237\u001b[0m         \u001b[39mif\u001b[39;00m i \u001b[39m!=\u001b[39m j:\n\u001b[1;32m    238\u001b[0m             \u001b[39m# R_xp[j, i] = -R_xx\u001b[39;00m\n\u001b[1;32m    239\u001b[0m             R_xp[\n\u001b[1;32m    240\u001b[0m                 j \u001b[39m*\u001b[39m \u001b[39mself\u001b[39m\u001b[39m.\u001b[39mL : j \u001b[39m*\u001b[39m \u001b[39mself\u001b[39m\u001b[39m.\u001b[39mL \u001b[39m+\u001b[39m \u001b[39mself\u001b[39m\u001b[39m.\u001b[39mL,\n\u001b[1;32m    241\u001b[0m                 i \u001b[39m*\u001b[39m \u001b[39mself\u001b[39m\u001b[39m.\u001b[39mL : i \u001b[39m*\u001b[39m \u001b[39mself\u001b[39m\u001b[39m.\u001b[39mL \u001b[39m+\u001b[39m \u001b[39mself\u001b[39m\u001b[39m.\u001b[39mL,\n\u001b[1;32m    242\u001b[0m             ] \u001b[39m=\u001b[39m \u001b[39m-\u001b[39mR_xx\n",
      "File \u001b[0;32m~/repos/asilomar2023/asilomar2023sim/src/admm_fq_base.py:254\u001b[0m, in \u001b[0;36mNodeProcessor.compute_Rxx\u001b[0;34m(self, i, j)\u001b[0m\n\u001b[1;32m    253\u001b[0m \u001b[39mdef\u001b[39;00m \u001b[39mcompute_Rxx\u001b[39m(\u001b[39mself\u001b[39m, i, j):\n\u001b[0;32m--> 254\u001b[0m     D_xi \u001b[39m=\u001b[39m np\u001b[39m.\u001b[39;49mdiag(\u001b[39mself\u001b[39;49m\u001b[39m.\u001b[39;49mblock[:, i])\n\u001b[1;32m    255\u001b[0m     D_xj \u001b[39m=\u001b[39m np\u001b[39m.\u001b[39mdiag(\u001b[39mself\u001b[39m\u001b[39m.\u001b[39mblock[:, j])\n\u001b[1;32m    256\u001b[0m     R_xx \u001b[39m=\u001b[39m \u001b[39mself\u001b[39m\u001b[39m.\u001b[39mW_10_Lx2L_fq \u001b[39m@\u001b[39m D_xi\u001b[39m.\u001b[39mconj()\u001b[39m.\u001b[39mT \u001b[39m@\u001b[39m \u001b[39mself\u001b[39m\u001b[39m.\u001b[39mW_R \u001b[39m@\u001b[39m D_xj \u001b[39m@\u001b[39m \u001b[39mself\u001b[39m\u001b[39m.\u001b[39mW_10_2LxL_fq\n",
      "File \u001b[0;32m~/venvs/admm/lib/python3.11/site-packages/numpy/lib/twodim_base.py:293\u001b[0m, in \u001b[0;36mdiag\u001b[0;34m(v, k)\u001b[0m\n\u001b[1;32m    291\u001b[0m \u001b[39mif\u001b[39;00m \u001b[39mlen\u001b[39m(s) \u001b[39m==\u001b[39m \u001b[39m1\u001b[39m:\n\u001b[1;32m    292\u001b[0m     n \u001b[39m=\u001b[39m s[\u001b[39m0\u001b[39m]\u001b[39m+\u001b[39m\u001b[39mabs\u001b[39m(k)\n\u001b[0;32m--> 293\u001b[0m     res \u001b[39m=\u001b[39m zeros((n, n), v\u001b[39m.\u001b[39mdtype)\n\u001b[1;32m    294\u001b[0m     \u001b[39mif\u001b[39;00m k \u001b[39m>\u001b[39m\u001b[39m=\u001b[39m \u001b[39m0\u001b[39m:\n\u001b[1;32m    295\u001b[0m         i \u001b[39m=\u001b[39m k\n",
      "\u001b[0;31mKeyboardInterrupt\u001b[0m: "
     ]
    }
   ],
   "source": [
    "transmission_hist = {}\n",
    "deltas = [1e-1, 1e-2, 1e-3, 1e-4, 1e-5, 1e-6, 1e-7, 1e-8, 1e-9, 1e-10, 1e-11, 1e-12]\n",
    "for run in range(runs):\n",
    "    print(\"Run:\", run)\n",
    "    true_norms = [1.0, 1.0, 1.0, 1.0]\n",
    "\n",
    "    u = rng.normal(size=(nr_samples, 1))\n",
    "    clean_signal: np.ndarray = u / u.max()\n",
    "\n",
    "    clean_signal = clean_signal / clean_signal.std(axis=0) * 0.25\n",
    "\n",
    "    ## %%\n",
    "    h = {}\n",
    "    hf = {}\n",
    "    noisy_signals = np.empty((0, M))\n",
    "    for part in range(partitions):\n",
    "        h_, hf_ = utils.generateRandomIRs(L, M, true_norms, rng)\n",
    "        h[part] = h_\n",
    "        hf[part] = hf_\n",
    "        noisy_signals_ = utils.getNoisySignal(\n",
    "            clean_signal[part * part_len : (part + 1) * part_len], h_, SNR, rng\n",
    "        )\n",
    "        noisy_signals = np.concatenate([noisy_signals, noisy_signals_])\n",
    "\n",
    "    ## %%\n",
    "    hopsize = L\n",
    "    npm = []\n",
    "    SNR_c_r = 10 ** (SNR_c / 20)\n",
    "    nw.setOnTransmit(saveTransmissionHist)\n",
    "    nw.reset()\n",
    "    nw.setParameters(rho, stepsize, eta, 1, 0.0, 0)\n",
    "    nw.setDeltas(deltas)\n",
    "    for k_admm_fq in range(0, nr_samples - 2 * L, hopsize):\n",
    "        nw.step(noisy_signals[k_admm_fq : k_admm_fq + 2 * L, :])\n",
    "    #     error = []\n",
    "    #     for m in range(M):\n",
    "    #         node: adf.NodeProcessor = nw.nodes[m]\n",
    "    #         error.append(\n",
    "    #             utils.NPM(node.getEstimate(), hf[getPart(k_admm_fq)][:, m, None])\n",
    "    #         )\n",
    "    #     # npm.append(np.mean(error))\n",
    "    #     npm.append(error)\n",
    "    # npm = np.asarray(npm)"
   ]
  },
  {
   "cell_type": "code",
   "execution_count": 9,
   "metadata": {},
   "outputs": [],
   "source": [
    "with open(\"../data/transmission_hist.p\", \"wb\") as f:\n",
    "    pickle.dump(transmission_hist, f)"
   ]
  },
  {
   "cell_type": "code",
   "execution_count": 10,
   "metadata": {},
   "outputs": [],
   "source": [
    "with open(\"../data/transmission_hist.p\", \"rb\") as f:\n",
    "    transmission_hist = pickle.load(f)"
   ]
  },
  {
   "cell_type": "code",
   "execution_count": 11,
   "metadata": {},
   "outputs": [
    {
     "data": {
      "image/png": "[encoded data removed]",
      "text/plain": [
       "<Figure size 339.007x135.603 with 1 Axes>"
      ]
     },
     "metadata": {},
     "output_type": "display_data"
    }
   ],
   "source": [
    "textwidth = 245\n",
    "linewidth = 1.2\n",
    "plt.rcParams.update(\n",
    "    {\n",
    "        \"font.family\": \"serif\",  # use serif/main font for text elements\n",
    "        \"text.usetex\": False,  # don't use inline math for ticks (not on docker image)\n",
    "        \"pgf.rcfonts\": False,  # don't setup fonts from rc parameters\n",
    "        \"font.size\": 8,\n",
    "    }\n",
    ")\n",
    "fig, ax = plt.subplots(figsize=utils.set_size(textwidth, 1.0, (1, 1), 0.4))\n",
    "var = 0.00000005\n",
    "delta = 0.0001\n",
    "bins = np.asarray(list(transmission_hist[delta][\"res_local_q\"][1][0].keys()))\n",
    "counts = np.asarray(list(transmission_hist[delta][\"res_local_q\"][1][0].values()))\n",
    "density = counts / (sum(counts) * delta)\n",
    "ax.bar(\n",
    "    bins,\n",
    "    density,\n",
    "    width=delta,\n",
    "    color=\"b\",\n",
    "    alpha=0.3,\n",
    "    label=rf\"$\\Delta = {delta}$\"\n",
    ")\n",
    "x = np.linspace(-10 * delta, 10 * delta, 100)\n",
    "y = 1 / (np.sqrt(2 * np.pi * var)) * np.exp(-1 / 2 * x**2 / var)*0.65\n",
    "ax.plot(x, y, \"b-.\", linewidth=1)\n",
    "\n",
    "var = 0.00000003\n",
    "delta = 0.00001\n",
    "bins = np.asarray(list(transmission_hist[delta][\"res_local_q\"][1][0].keys()))\n",
    "counts = np.asarray(list(transmission_hist[delta][\"res_local_q\"][1][0].values()))\n",
    "density = counts / (sum(counts) * delta)\n",
    "ax.bar(\n",
    "    bins,\n",
    "    density,\n",
    "    width=delta,\n",
    "    color=\"r\",\n",
    "    alpha=0.3,\n",
    "    label=rf\"$\\Delta = {delta}$\"\n",
    ")\n",
    "x = np.linspace(-100 * delta, 100 * delta, 100)\n",
    "y = 1 / (np.sqrt(2 * np.pi * var)) * np.exp(-1 / 2 * x**2 / var)*0.65\n",
    "ax.plot(x, y, \"r-.\", linewidth=1)\n",
    "\n",
    "ax.set_xlim(-100 * delta, 100 * delta)\n",
    "ax.set_ylim(0,4000)\n",
    "# ax.grid()\n",
    "ax.set_xlabel(\"Quantized residual value\")\n",
    "ax.set_ylabel(\"Density\")\n",
    "plt.tight_layout(pad=0.5)\n",
    "plt.legend()\n",
    "plt.show()\n",
    "utils.savefig(fig, \"dist-example\", \"pdf\")"
   ]
  },
  {
   "cell_type": "code",
   "execution_count": 47,
   "metadata": {},
   "outputs": [
    {
     "data": {
      "image/png": "[encoded data removed]",
      "text/plain": [
       "<Figure size 339.007x135.603 with 2 Axes>"
      ]
     },
     "metadata": {},
     "output_type": "display_data"
    }
   ],
   "source": [
    "textwidth = 245\n",
    "linewidth = 1.2\n",
    "plt.rcParams.update(\n",
    "    {\n",
    "        \"font.family\": \"serif\",  # use serif/main font for text elements\n",
    "        \"text.usetex\": False,  # don't use inline math for ticks (not on docker image)\n",
    "        \"pgf.rcfonts\": False,  # don't setup fonts from rc parameters\n",
    "        \"font.size\": 8,\n",
    "    }\n",
    ")\n",
    "fig, axs = plt.subplots(1, 2, figsize=utils.set_size(textwidth, 1.0, (1, 1), 0.4))\n",
    "# var = 0.00000005\n",
    "# delta = 0.0001\n",
    "# bins = np.asarray(list(transmission_hist[delta][\"res_local_q\"][1][0].keys()))\n",
    "# counts = np.asarray(list(transmission_hist[delta][\"res_local_q\"][1][0].values()))\n",
    "# density = counts / (sum(counts) * delta)\n",
    "# axs[0].bar(\n",
    "#     bins,\n",
    "#     density,\n",
    "#     width=delta,\n",
    "#     color=\"b\",\n",
    "#     alpha=0.3,\n",
    "#     label=rf\"$\\Delta = {delta}$\"\n",
    "# )\n",
    "# x = np.linspace(-10 * delta, 10 * delta, 100)\n",
    "# y = 1 / (np.sqrt(2 * np.pi * var)) * np.exp(-1 / 2 * x**2 / var)*0.65\n",
    "# axs[0].plot(x, y, \"b-.\", linewidth=1)\n",
    "\n",
    "var = 0.00000003\n",
    "delta = 0.00001\n",
    "bins = np.asarray(list(transmission_hist[delta][\"res_local_q\"][1][0].keys()))\n",
    "counts = np.asarray(list(transmission_hist[delta][\"res_local_q\"][1][0].values()))\n",
    "density = counts / (sum(counts) * delta)\n",
    "axs[0].bar(\n",
    "    bins,\n",
    "    density,\n",
    "    width=delta,\n",
    "    color=\"r\",\n",
    "    alpha=0.3,\n",
    "    label=rf\"$\\Delta = {delta}$\"\n",
    ")\n",
    "x = np.linspace(-100 * delta, 100 * delta, 100)\n",
    "y = 1 / (np.sqrt(2 * np.pi * var)) * np.exp(-1 / 2 * x**2 / var)*0.65\n",
    "axs[0].plot(x, y, \"r-.\", linewidth=1)\n",
    "\n",
    "axs[0].set_xlim(-100 * delta, 100 * delta)\n",
    "axs[0].set_ylim(0,2400)\n",
    "# ax.grid()\n",
    "axs[0].set_xlabel(\"Quantized residual value\")\n",
    "axs[0].set_ylabel(\"Counts\")\n",
    "axs[0].legend(fontsize=6)\n",
    "\n",
    "var = 1\n",
    "x = np.linspace(-5, 5, 100)\n",
    "y = 1 / (np.sqrt(2 * np.pi * var)) * np.exp(-1 / 2 * x**2 / var)\n",
    "axs[1].plot(x, y, \"k\", linewidth=1)\n",
    "\n",
    "x = np.array([-3.75, -3, -2.25, -1.5, -0.75, 0, 0.75, 1.5, 2.25, 3, 3.75])\n",
    "y = 1 / (np.sqrt(2 * np.pi * var)) * np.exp(-1 / 2 * x**2 / var)\n",
    "markerline, stemline, baseline, = axs[1].stem(x, y, linefmt=\"--\", basefmt=\"\", label=r\"$N=13$\")\n",
    "plt.setp(baseline, linewidth = 0)\n",
    "plt.setp(stemline, linewidth = 1.2, color=\"tab:blue\")\n",
    "plt.setp(markerline, markersize = 3, color=\"tab:blue\")\n",
    "\n",
    "x = np.array([-3.5, -1.75, 0, 1.75, 3.5])\n",
    "y = 1 / (np.sqrt(2 * np.pi * var)) * np.exp(-1 / 2 * x**2 / var)\n",
    "markerline, stemline, baseline, = axs[1].stem(x, y, linefmt=\":\", basefmt=\"\", label=r\"$N=5$\", markerfmt=\"x\")\n",
    "plt.setp(baseline, linewidth = 0)\n",
    "plt.setp(stemline, linewidth = 1.2, color=\"tab:orange\")\n",
    "plt.setp(markerline, markersize = 5, color=\"tab:orange\")\n",
    "\n",
    "axs[1].legend(fontsize=6,ncols=2,loc=\"upper left\", columnspacing=0.1)\n",
    "axs[1].set_xlim(-5, 5)\n",
    "axs[1].set_ylim(0,0.6)\n",
    "axs[1].set_xlabel(\"Residual value\")\n",
    "axs[1].set_ylabel(\"Density\")\n",
    "\n",
    "plt.tight_layout(pad=0.1)\n",
    "plt.show()\n",
    "utils.savefig(fig, \"dist-examples\", \"pdf\")"
   ]
  },
  {
   "cell_type": "code",
   "execution_count": null,
   "metadata": {},
   "outputs": [],
   "source": []
  }
 ],
 "metadata": {
  "kernelspec": {
   "display_name": "admm",
   "language": "python",
   "name": "python3"
  },
  "language_info": {
   "codemirror_mode": {
    "name": "ipython",
    "version": 3
   },
   "file_extension": ".py",
   "mimetype": "text/x-python",
   "name": "python",
   "nbconvert_exporter": "python",
   "pygments_lexer": "ipython3",
   "version": "3.11.5"
  }
 },
 "nbformat": 4,
 "nbformat_minor": 2
}
