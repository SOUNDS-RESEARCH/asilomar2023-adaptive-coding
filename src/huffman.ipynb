{
 "cells": [
  {
   "cell_type": "code",
   "execution_count": 43,
   "metadata": {},
   "outputs": [],
   "source": [
    "import numpy as np\n",
    "import matplotlib.pyplot as plt\n",
    "import huffman as hf\n",
    "import pickle\n",
    "import admm_fq_prires as adfp\n",
    "import utils"
   ]
  },
  {
   "cell_type": "code",
   "execution_count": 2,
   "metadata": {},
   "outputs": [],
   "source": [
    "rng = np.random.default_rng()"
   ]
  },
  {
   "cell_type": "code",
   "execution_count": 62,
   "metadata": {},
   "outputs": [],
   "source": [
    "nr_samples = 100000\n",
    "mean = 0\n",
    "var = 0.01\n",
    "decimals = 10\n",
    "training_data = rng.normal(mean, np.sqrt(var), (nr_samples,)).round(decimals)\n",
    "training_data = np.concatenate([training_data, np.zeros((int(nr_samples / 15),))])"
   ]
  },
  {
   "cell_type": "code",
   "execution_count": 77,
   "metadata": {},
   "outputs": [
    {
     "data": {
      "image/png": "[encoded data removed]",
      "text/plain": [
       "<Figure size 339.007x135.603 with 1 Axes>"
      ]
     },
     "metadata": {},
     "output_type": "display_data"
    }
   ],
   "source": [
    "textwidth = 245\n",
    "linewidth = 1.2\n",
    "plt.rcParams.update(\n",
    "    {\n",
    "        \"font.family\": \"serif\",  # use serif/main font for text elements\n",
    "        \"text.usetex\": False,  # don't use inline math for ticks (not on docker image)\n",
    "        \"pgf.rcfonts\": False,  # don't setup fonts from rc parameters\n",
    "        \"font.size\": 8,\n",
    "    }\n",
    ")\n",
    "fig, ax = plt.subplots(figsize=utils.set_size(textwidth, 1.0, (1, 1), 0.4))\n",
    "ax.hist(training_data, 100, align=\"mid\", color=\"k\", alpha=0.5, density=True)\n",
    "x = np.linspace(-0.5, 0.5, 100)\n",
    "y = 1 / (np.sqrt(2 * np.pi * var)) * np.exp(-1 / 2 * x**2 / var)\n",
    "ax.plot(x, y, \"r-.\")\n",
    "ax.set_xlim(-0.3, 0.3)\n",
    "# ax.grid()\n",
    "ax.set_xlabel(\"Residual value\")\n",
    "ax.set_ylabel(\"Probability\")\n",
    "plt.tight_layout(pad=0.5)\n",
    "plt.show()\n",
    "utils.savefig(fig, \"dist-example\", \"pdf\")"
   ]
  },
  {
   "cell_type": "code",
   "execution_count": 78,
   "metadata": {},
   "outputs": [
    {
     "name": "stdout",
     "output_type": "stream",
     "text": [
      "Symbol Code\n",
      "------ ----\n",
      "63     1000\n",
      "191    1001\n",
      "0      1010\n",
      "177    0010110\n",
      "192    0100110\n",
      "213    00000000\n",
      "87     00000001\n",
      "65     00000010\n",
      "78     00000011\n",
      "41     00000100\n",
      "214    00000101\n",
      ".\n",
      ".\n",
      ".\n",
      "\n",
      "Error: 0.0\n"
     ]
    }
   ],
   "source": [
    "data = training_data.tobytes()\n",
    "encoded, tree = hf.huffman_encode(data)\n",
    "\n",
    "# Pretty print the Huffman table\n",
    "print(f\"Symbol Code\\n------ ----\")\n",
    "for i, (k, v) in enumerate(\n",
    "    sorted(hf.huffman_table(tree).items(), key=lambda x: len(x[1]))\n",
    "):\n",
    "    if i > 10:\n",
    "        break\n",
    "    print(f\"{k:<6} {v}\")\n",
    "print(\".\\n.\\n.\\n\")\n",
    "\n",
    "# Print the bit pattern of the encoded data\n",
    "# print(\"\".join(hf._bits_from_bytes(encoded)))\n",
    "\n",
    "# Encode then decode\n",
    "decoded = hf.huffman_decode(*hf.huffman_encode(data))\n",
    "numbers_decoded = np.frombuffer(decoded)\n",
    "\n",
    "# print(numbers - numbers_decoded)\n",
    "print(\"Error:\", np.linalg.norm(training_data - numbers_decoded))"
   ]
  },
  {
   "cell_type": "code",
   "execution_count": 38,
   "metadata": {},
   "outputs": [],
   "source": [
    "with open(\"test.p\", \"wb\") as f:\n",
    "    pickle.dump(tree, f)"
   ]
  },
  {
   "cell_type": "code",
   "execution_count": 39,
   "metadata": {},
   "outputs": [
    {
     "name": "stdout",
     "output_type": "stream",
     "text": [
      "Error: 0.0\n"
     ]
    }
   ],
   "source": [
    "with open(\"test.p\", \"rb\") as f:\n",
    "    l_tree = pickle.load(f)\n",
    "\n",
    "encoded, tree = hf.huffman_encode(data)\n",
    "hf._bits_from_bytes(encoded)\n",
    "decoded = hf.huffman_decode(encoded, l_tree)\n",
    "numbers_decoded = np.frombuffer(decoded)\n",
    "\n",
    "# print(numbers - numbers_decoded)\n",
    "print(\"Error:\", np.linalg.norm(training_data - numbers_decoded))"
   ]
  },
  {
   "cell_type": "markdown",
   "metadata": {},
   "source": [
    "TEST CODEBOOK SCALING"
   ]
  },
  {
   "cell_type": "code",
   "execution_count": 86,
   "metadata": {},
   "outputs": [],
   "source": [
    "nr_samples = 100000\n",
    "mean = 0\n",
    "var = 1\n",
    "decimals = 1\n",
    "training_data = rng.normal(mean, np.sqrt(var), (nr_samples,)).round(decimals)\n",
    "# training_data = np.concatenate([training_data, np.zeros((int(nr_samples / 15),))])"
   ]
  },
  {
   "cell_type": "code",
   "execution_count": 95,
   "metadata": {},
   "outputs": [
    {
     "data": {
      "image/png": "[encoded data removed]",
      "text/plain": [
       "<Figure size 339.007x135.603 with 1 Axes>"
      ]
     },
     "metadata": {},
     "output_type": "display_data"
    }
   ],
   "source": [
    "fig, ax = plt.subplots(figsize=utils.set_size(textwidth, 1.0, (1, 1), 0.4))\n",
    "ax.hist(training_data, 42, align=\"mid\", color=\"k\", alpha=0.5, density=True)\n",
    "x = np.linspace(-5, 5, 100)\n",
    "y = 1 / (np.sqrt(2 * np.pi * var)) * np.exp(-1 / 2 * x**2 / var)\n",
    "ax.plot(x, y, \"r-.\")\n",
    "# ax.set_xlim(-0.3, 0.3)\n",
    "# ax.grid()\n",
    "ax.set_xlabel(\"Residual value\")\n",
    "ax.set_ylabel(\"Probability\")\n",
    "plt.tight_layout(pad=0.5)\n",
    "plt.show()"
   ]
  },
  {
   "cell_type": "code",
   "execution_count": 100,
   "metadata": {},
   "outputs": [
    {
     "name": "stdout",
     "output_type": "stream",
     "text": [
      "Symbol Code\n",
      "------ ----\n"
     ]
    },
    {
     "ename": "ValueError",
     "evalue": "buffer size must be a multiple of element size",
     "output_type": "error",
     "traceback": [
      "\u001b[0;31m---------------------------------------------------------------------------\u001b[0m",
      "\u001b[0;31mValueError\u001b[0m                                Traceback (most recent call last)",
      "\u001b[1;32m/Users/matthias/repos/asilomar2023/asilomar2023sim/src/huffman.ipynb Cell 11\u001b[0m line \u001b[0;36m1\n\u001b[1;32m      <a href='vscode-notebook-cell:/Users/matthias/repos/asilomar2023/asilomar2023sim/src/huffman.ipynb#X15sZmlsZQ%3D%3D?line=8'>9</a>\u001b[0m     \u001b[39mif\u001b[39;00m i \u001b[39m>\u001b[39m \u001b[39m10\u001b[39m:\n\u001b[1;32m     <a href='vscode-notebook-cell:/Users/matthias/repos/asilomar2023/asilomar2023sim/src/huffman.ipynb#X15sZmlsZQ%3D%3D?line=9'>10</a>\u001b[0m         \u001b[39mbreak\u001b[39;00m\n\u001b[0;32m---> <a href='vscode-notebook-cell:/Users/matthias/repos/asilomar2023/asilomar2023sim/src/huffman.ipynb#X15sZmlsZQ%3D%3D?line=10'>11</a>\u001b[0m     \u001b[39mprint\u001b[39m(\u001b[39mf\u001b[39m\u001b[39m\"\u001b[39m\u001b[39m{\u001b[39;00mnp\u001b[39m.\u001b[39;49mfrombuffer(k\u001b[39m.\u001b[39;49mto_bytes())\u001b[39m:\u001b[39;00m\u001b[39m<6\u001b[39m\u001b[39m}\u001b[39;00m\u001b[39m \u001b[39m\u001b[39m{\u001b[39;00mv\u001b[39m}\u001b[39;00m\u001b[39m\"\u001b[39m)\n\u001b[1;32m     <a href='vscode-notebook-cell:/Users/matthias/repos/asilomar2023/asilomar2023sim/src/huffman.ipynb#X15sZmlsZQ%3D%3D?line=11'>12</a>\u001b[0m \u001b[39mprint\u001b[39m(\u001b[39m\"\u001b[39m\u001b[39m.\u001b[39m\u001b[39m\\n\u001b[39;00m\u001b[39m.\u001b[39m\u001b[39m\\n\u001b[39;00m\u001b[39m.\u001b[39m\u001b[39m\\n\u001b[39;00m\u001b[39m\"\u001b[39m)\n\u001b[1;32m     <a href='vscode-notebook-cell:/Users/matthias/repos/asilomar2023/asilomar2023sim/src/huffman.ipynb#X15sZmlsZQ%3D%3D?line=13'>14</a>\u001b[0m \u001b[39m# Print the bit pattern of the encoded data\u001b[39;00m\n\u001b[1;32m     <a href='vscode-notebook-cell:/Users/matthias/repos/asilomar2023/asilomar2023sim/src/huffman.ipynb#X15sZmlsZQ%3D%3D?line=14'>15</a>\u001b[0m \u001b[39m# print(\"\".join(hf._bits_from_bytes(encoded)))\u001b[39;00m\n\u001b[1;32m     <a href='vscode-notebook-cell:/Users/matthias/repos/asilomar2023/asilomar2023sim/src/huffman.ipynb#X15sZmlsZQ%3D%3D?line=15'>16</a>\u001b[0m \n\u001b[1;32m     <a href='vscode-notebook-cell:/Users/matthias/repos/asilomar2023/asilomar2023sim/src/huffman.ipynb#X15sZmlsZQ%3D%3D?line=16'>17</a>\u001b[0m \u001b[39m# Encode then decode\u001b[39;00m\n",
      "\u001b[0;31mValueError\u001b[0m: buffer size must be a multiple of element size"
     ]
    }
   ],
   "source": [
    "data = training_data.tobytes()\n",
    "encoded, tree = hf.huffman_encode(data)\n",
    "\n",
    "# Pretty print the Huffman table\n",
    "print(f\"Symbol Code\\n------ ----\")\n",
    "for i, (k, v) in enumerate(\n",
    "    sorted(hf.huffman_table(tree).items(), key=lambda x: len(x[1]))\n",
    "):\n",
    "    if i > 10:\n",
    "        break\n",
    "    print(f\"{np.frombuffer(k.to_bytes()):<6} {v}\")\n",
    "print(\".\\n.\\n.\\n\")\n",
    "\n",
    "# Print the bit pattern of the encoded data\n",
    "# print(\"\".join(hf._bits_from_bytes(encoded)))\n",
    "\n",
    "# Encode then decode\n",
    "decoded = hf.huffman_decode(encoded, tree)\n",
    "numbers_decoded = np.frombuffer(decoded)\n",
    "\n",
    "# print(numbers - numbers_decoded)\n",
    "print(\"Error:\", np.linalg.norm(training_data - numbers_decoded))"
   ]
  },
  {
   "cell_type": "code",
   "execution_count": 121,
   "metadata": {},
   "outputs": [
    {
     "name": "stdout",
     "output_type": "stream",
     "text": [
      "b'\\xf6\\x97\\xdd\\x93\\x87E\\x10@\\x00\\x00\\x00\\x00\\x00\\x00\\x0c@333333\\xf3?'\n"
     ]
    }
   ],
   "source": [
    "import struct\n",
    "\n",
    "a = np.array([4.0679, 3.5, 1.2])\n",
    "b = a.tobytes()\n",
    "print(b)\n",
    "\n",
    "c = np.frombuffer(b)\n",
    "print(c)"
   ]
  },
  {
   "cell_type": "code",
   "execution_count": null,
   "metadata": {},
   "outputs": [],
   "source": [
    "nr_samples = 100000\n",
    "mean = 0\n",
    "var = 4\n",
    "decimals = 5\n",
    "training_data = rng.normal(mean, np.sqrt(var), (nr_samples,)).round(decimals)\n",
    "training_data = np.concatenate([training_data, np.zeros((int(nr_samples / 15),))])"
   ]
  },
  {
   "cell_type": "code",
   "execution_count": null,
   "metadata": {},
   "outputs": [],
   "source": [
    "fig, ax = plt.subplots(figsize=utils.set_size(textwidth, 1.0, (1, 1), 0.4))\n",
    "ax.hist(training_data, 100, align=\"mid\", color=\"k\", alpha=0.5, density=True)\n",
    "x = np.linspace(-0.5, 0.5, 100)\n",
    "y = 1 / (np.sqrt(2 * np.pi * var)) * np.exp(-1 / 2 * x**2 / var)\n",
    "ax.plot(x, y, \"r-.\")\n",
    "ax.set_xlim(-0.3, 0.3)\n",
    "# ax.grid()\n",
    "ax.set_xlabel(\"Residual value\")\n",
    "ax.set_ylabel(\"Probability\")\n",
    "plt.tight_layout(pad=0.5)\n",
    "plt.show()"
   ]
  }
 ],
 "metadata": {
  "kernelspec": {
   "display_name": "admm",
   "language": "python",
   "name": "python3"
  },
  "language_info": {
   "codemirror_mode": {
    "name": "ipython",
    "version": 3
   },
   "file_extension": ".py",
   "mimetype": "text/x-python",
   "name": "python",
   "nbconvert_exporter": "python",
   "pygments_lexer": "ipython3",
   "version": "3.11.5"
  }
 },
 "nbformat": 4,
 "nbformat_minor": 2
}
