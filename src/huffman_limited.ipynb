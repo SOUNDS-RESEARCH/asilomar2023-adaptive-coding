{
 "cells": [
  {
   "cell_type": "code",
   "execution_count": 1,
   "metadata": {},
   "outputs": [],
   "source": [
    "import numpy as np\n",
    "import matplotlib.pyplot as plt\n",
    "import huffman as hf\n",
    "import pickle\n",
    "import admm_fq_prires as adfp\n",
    "import utils"
   ]
  },
  {
   "cell_type": "code",
   "execution_count": 2,
   "metadata": {},
   "outputs": [],
   "source": [
    "rng = np.random.default_rng()"
   ]
  },
  {
   "cell_type": "code",
   "execution_count": 3,
   "metadata": {},
   "outputs": [],
   "source": [
    "nr_samples = 100000\n",
    "mean = 0\n",
    "var = 0.01\n",
    "decimals = 10\n",
    "training_data = rng.normal(mean, np.sqrt(var), (nr_samples,)).round(decimals)\n",
    "training_data = np.concatenate([training_data, np.zeros((int(nr_samples / 15),))])"
   ]
  },
  {
   "cell_type": "code",
   "execution_count": 4,
   "metadata": {},
   "outputs": [
    {
     "data": {
      "image/png": "[encoded data removed]",
      "text/plain": [
       "<Figure size 339.007x135.603 with 1 Axes>"
      ]
     },
     "metadata": {},
     "output_type": "display_data"
    }
   ],
   "source": [
    "textwidth = 245\n",
    "linewidth = 1.2\n",
    "plt.rcParams.update(\n",
    "    {\n",
    "        \"font.family\": \"serif\",  # use serif/main font for text elements\n",
    "        \"text.usetex\": False,  # don't use inline math for ticks (not on docker image)\n",
    "        \"pgf.rcfonts\": False,  # don't setup fonts from rc parameters\n",
    "        \"font.size\": 8,\n",
    "    }\n",
    ")\n",
    "fig, ax = plt.subplots(figsize=utils.set_size(textwidth, 1.0, (1, 1), 0.4))\n",
    "ax.hist(training_data, 100, align=\"mid\", color=\"k\", alpha=0.5, density=True)\n",
    "x = np.linspace(-0.5, 0.5, 100)\n",
    "y = 1 / (np.sqrt(2 * np.pi * var)) * np.exp(-1 / 2 * x**2 / var)\n",
    "ax.plot(x, y, \"r-.\")\n",
    "ax.set_xlim(-0.3, 0.3)\n",
    "# ax.grid()\n",
    "ax.set_xlabel(\"Residual value\")\n",
    "ax.set_ylabel(\"Probability\")\n",
    "plt.tight_layout(pad=0.5)\n",
    "plt.show()\n",
    "utils.savefig(fig, \"dist-example\", \"pdf\")"
   ]
  },
  {
   "cell_type": "code",
   "execution_count": 16,
   "metadata": {},
   "outputs": [],
   "source": [
    "nr_samples = 1000000\n",
    "mean = 0\n",
    "var = 0.1\n",
    "decimals = 10\n",
    "training_data = rng.normal(mean, np.sqrt(var), (nr_samples,))\n",
    "training_data = np.concatenate([training_data, np.zeros((int(nr_samples / 15),))])\n",
    "\n",
    "hist_range = [-1, 1]\n",
    "nr_bins = 301\n",
    "step = (hist_range[1] - hist_range[0]) / nr_bins\n",
    "bins = np.arange(hist_range[0], hist_range[1] + step, step)\n",
    "centers = ((bins[1:] + bins[:-1]) / 2).round(12)\n",
    "resample_hist_range = [-1, 1]\n",
    "resample_nr_bins = 19\n",
    "resample_step = (resample_hist_range[1] - resample_hist_range[0]) / resample_nr_bins\n",
    "resample_bins = np.arange(\n",
    "    resample_hist_range[0], resample_hist_range[1] + resample_step, resample_step\n",
    ")\n",
    "resample_centers = ((resample_bins[1:] + resample_bins[:-1]) / 2).round(10)"
   ]
  },
  {
   "cell_type": "code",
   "execution_count": 17,
   "metadata": {},
   "outputs": [],
   "source": [
    "resample_training_data = np.array([])\n",
    "for i, cent in enumerate(resample_centers):\n",
    "    pp = training_data[np.isclose(training_data, cent, atol=step / 2)]\n",
    "    resample_training_data = np.concatenate(\n",
    "        [resample_training_data, np.ones(pp.shape) * i]\n",
    "    )\n",
    "\n",
    "resample_training_data = resample_training_data.astype(int)"
   ]
  },
  {
   "cell_type": "code",
   "execution_count": 18,
   "metadata": {},
   "outputs": [
    {
     "data": {
      "image/png": "[encoded data removed]",
      "text/plain": [
       "<Figure size 640x480 with 1 Axes>"
      ]
     },
     "metadata": {},
     "output_type": "display_data"
    }
   ],
   "source": [
    "counts, bins = np.histogram(training_data, bins)\n",
    "plt.stairs(counts, bins)\n",
    "counts, bins = np.histogram(resample_centers[resample_training_data], bins)\n",
    "plt.stairs(counts, bins)\n",
    "plt.grid()\n",
    "plt.show()"
   ]
  },
  {
   "cell_type": "code",
   "execution_count": 19,
   "metadata": {},
   "outputs": [
    {
     "name": "stdout",
     "output_type": "stream",
     "text": [
      "Counter({9: 75082, 8: 8017, 10: 7761, 11: 6775, 7: 6639, 6: 5099, 12: 4980, 5: 3549, 13: 3477, 14: 2129, 4: 2100, 15: 1189, 3: 1146, 16: 588, 2: 525, 17: 260, 1: 256, 18: 93, 0: 90})\n",
      "Symbol Code\n",
      "------ ----\n",
      "9      1\n",
      "12     0000\n",
      "6      0001\n",
      "7      0010\n",
      "11     0011\n",
      "10     0101\n",
      "8      0110\n",
      "13     01000\n",
      "5      01001\n",
      "4      011101\n",
      "14     011110\n",
      "3      0111110\n",
      "15     0111111\n",
      "17     01110000\n",
      "2      01110010\n",
      "16     01110011\n",
      "1      011100011\n",
      "18     0111000101\n",
      "256    01110001000\n",
      "0      01110001001\n",
      "Error: 0.0\n",
      "Error: 0.0\n"
     ]
    }
   ],
   "source": [
    "data = resample_training_data\n",
    "encoded, tree = hf.huffman_encode(data)\n",
    "table = hf.huffman_table(tree)\n",
    "\n",
    "# Pretty print the Huffman table\n",
    "print(f\"Symbol Code\\n------ ----\")\n",
    "for i, (k, v) in enumerate(\n",
    "    sorted(hf.huffman_table(tree).items(), key=lambda x: len(x[1]))\n",
    "):\n",
    "    # if i > 10:\n",
    "    #     break\n",
    "    print(f\"{k:<6} {v}\")\n",
    "\n",
    "# Print the bit pattern of the encoded data\n",
    "# print(\"\".join(hf._bits_from_bytes(encoded)))\n",
    "\n",
    "# Encode then decode\n",
    "decoded = hf.huffman_decode(encoded, tree)\n",
    "numbers_decoded = list(decoded)\n",
    "\n",
    "# print(numbers - numbers_decoded)\n",
    "print(\"Error:\", np.linalg.norm(resample_training_data - numbers_decoded))\n",
    "\n",
    "# print(numbers - numbers_decoded)\n",
    "print(\n",
    "    \"Error:\",\n",
    "    np.linalg.norm(\n",
    "        resample_centers[resample_training_data] - resample_centers[numbers_decoded]\n",
    "    ),\n",
    ")"
   ]
  },
  {
   "cell_type": "code",
   "execution_count": 20,
   "metadata": {},
   "outputs": [
    {
     "name": "stdout",
     "output_type": "stream",
     "text": [
      "00100010001000100010001000100010001000100111000100000000\n"
     ]
    },
    {
     "data": {
      "text/plain": [
       "array([-0.21052632, -0.21052632, -0.21052632, -0.21052632, -0.21052632,\n",
       "       -0.21052632, -0.21052632, -0.21052632, -0.21052632, -0.21052632])"
      ]
     },
     "execution_count": 20,
     "metadata": {},
     "output_type": "execute_result"
    }
   ],
   "source": [
    "data = np.array([7] * 10)\n",
    "encoded = hf._encode(data, table)\n",
    "print(\"\".join(hf._bits_from_bytes(encoded)))\n",
    "\n",
    "encoded = hf._encode(data, table)\n",
    "decoded = hf.huffman_decode(encoded, tree)\n",
    "numbers_decoded = list(decoded)\n",
    "\n",
    "resample_centers[numbers_decoded]\n",
    "# numbers_decoded\n",
    "\n",
    "# print(numbers - numbers_decoded)\n",
    "# print(\"Error:\", np.linalg.norm(training_data - numbers_decoded))"
   ]
  },
  {
   "cell_type": "code",
   "execution_count": 38,
   "metadata": {},
   "outputs": [],
   "source": [
    "with open(\"test.p\", \"wb\") as f:\n",
    "    pickle.dump(tree, f)"
   ]
  },
  {
   "cell_type": "code",
   "execution_count": 39,
   "metadata": {},
   "outputs": [
    {
     "name": "stdout",
     "output_type": "stream",
     "text": [
      "Error: 0.0\n"
     ]
    }
   ],
   "source": [
    "with open(\"test.p\", \"rb\") as f:\n",
    "    l_tree = pickle.load(f)\n",
    "\n",
    "encoded, tree = hf.huffman_encode(data)\n",
    "hf._bits_from_bytes(encoded)\n",
    "decoded = hf.huffman_decode(encoded, l_tree)\n",
    "numbers_decoded = np.frombuffer(decoded)\n",
    "\n",
    "# print(numbers - numbers_decoded)\n",
    "print(\"Error:\", np.linalg.norm(training_data - numbers_decoded))"
   ]
  }
 ],
 "metadata": {
  "kernelspec": {
   "display_name": "admm",
   "language": "python",
   "name": "python3"
  },
  "language_info": {
   "codemirror_mode": {
    "name": "ipython",
    "version": 3
   },
   "file_extension": ".py",
   "mimetype": "text/x-python",
   "name": "python",
   "nbconvert_exporter": "python",
   "pygments_lexer": "ipython3",
   "version": "3.11.5"
  }
 },
 "nbformat": 4,
 "nbformat_minor": 2
}
