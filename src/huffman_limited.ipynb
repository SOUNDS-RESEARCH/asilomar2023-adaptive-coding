{
 "cells": [
  {
   "cell_type": "code",
   "execution_count": 1,
   "metadata": {},
   "outputs": [],
   "source": [
    "import numpy as np\n",
    "import matplotlib.pyplot as plt\n",
    "import huffman as hf\n",
    "import pickle\n",
    "import admm_fq_prires as adfp\n",
    "import utils"
   ]
  },
  {
   "cell_type": "code",
   "execution_count": 2,
   "metadata": {},
   "outputs": [],
   "source": [
    "rng = np.random.default_rng()"
   ]
  },
  {
   "cell_type": "code",
   "execution_count": 3,
   "metadata": {},
   "outputs": [],
   "source": [
    "nr_samples = 100000\n",
    "mean = 0\n",
    "var = 0.01\n",
    "decimals = 10\n",
    "training_data = rng.normal(mean, np.sqrt(var), (nr_samples,)).round(decimals)\n",
    "training_data = np.concatenate([training_data, np.zeros((int(nr_samples / 15),))])"
   ]
  },
  {
   "cell_type": "code",
   "execution_count": 4,
   "metadata": {},
   "outputs": [
    {
     "data": {
      "image/png": "[encoded data removed]",
      "text/plain": [
       "<Figure size 339.007x135.603 with 1 Axes>"
      ]
     },
     "metadata": {},
     "output_type": "display_data"
    }
   ],
   "source": [
    "textwidth = 245\n",
    "linewidth = 1.2\n",
    "plt.rcParams.update(\n",
    "    {\n",
    "        \"font.family\": \"serif\",  # use serif/main font for text elements\n",
    "        \"text.usetex\": False,  # don't use inline math for ticks (not on docker image)\n",
    "        \"pgf.rcfonts\": False,  # don't setup fonts from rc parameters\n",
    "        \"font.size\": 8,\n",
    "    }\n",
    ")\n",
    "fig, ax = plt.subplots(figsize=utils.set_size(textwidth, 1.0, (1, 1), 0.4))\n",
    "ax.hist(training_data, 100, align=\"mid\", color=\"k\", alpha=0.5, density=True)\n",
    "x = np.linspace(-0.5, 0.5, 100)\n",
    "y = 1 / (np.sqrt(2 * np.pi * var)) * np.exp(-1 / 2 * x**2 / var)\n",
    "ax.plot(x, y, \"r-.\")\n",
    "ax.set_xlim(-0.3, 0.3)\n",
    "# ax.grid()\n",
    "ax.set_xlabel(\"Residual value\")\n",
    "ax.set_ylabel(\"Probability\")\n",
    "plt.tight_layout(pad=0.5)\n",
    "plt.show()\n",
    "utils.savefig(fig, \"dist-example\", \"pdf\")"
   ]
  },
  {
   "cell_type": "code",
   "execution_count": 48,
   "metadata": {},
   "outputs": [],
   "source": [
    "nr_samples = 1000000\n",
    "mean = 0\n",
    "var = 1\n",
    "decimals = 10\n",
    "training_data = rng.normal(mean, np.sqrt(var), (nr_samples,))\n",
    "# training_data = np.concatenate([training_data, np.zeros((int(nr_samples / 15),))])\n",
    "\n",
    "hist_range = [-4, 4]\n",
    "nr_bins = 301\n",
    "step = (hist_range[1] - hist_range[0]) / nr_bins\n",
    "bins = np.arange(hist_range[0], hist_range[1] + step, step)\n",
    "centers = ((bins[1:] + bins[:-1]) / 2).round(12)\n",
    "resample_hist_range = [-4, 4]\n",
    "resample_nr_bins = 19\n",
    "resample_step = (resample_hist_range[1] - resample_hist_range[0]) / resample_nr_bins\n",
    "resample_bins = np.arange(\n",
    "    resample_hist_range[0], resample_hist_range[1] + resample_step, resample_step\n",
    ")\n",
    "resample_centers = ((resample_bins[1:] + resample_bins[:-1]) / 2).round(10)"
   ]
  },
  {
   "cell_type": "code",
   "execution_count": 83,
   "metadata": {},
   "outputs": [],
   "source": [
    "resample_training_data = np.array([])\n",
    "for i, cent in enumerate(resample_centers):\n",
    "    pp = training_data[np.isclose(training_data, cent, atol=step / 2)]\n",
    "    resample_training_data = np.concatenate(\n",
    "        [resample_training_data, np.ones(pp.shape) * i]\n",
    "    )\n",
    "\n",
    "resample_training_data = resample_training_data.astype(int)"
   ]
  },
  {
   "cell_type": "code",
   "execution_count": 85,
   "metadata": {},
   "outputs": [],
   "source": [
    "resample_bins_ = resample_bins\n",
    "resample_bins_[0] = -np.inf\n",
    "resample_bins_[-1] = np.inf\n",
    "resample_training_data = np.searchsorted(resample_bins_, training_data, side=\"left\")-1"
   ]
  },
  {
   "cell_type": "code",
   "execution_count": 86,
   "metadata": {},
   "outputs": [
    {
     "data": {
      "image/png": "[encoded data removed]",
      "text/plain": [
       "<Figure size 640x480 with 1 Axes>"
      ]
     },
     "metadata": {},
     "output_type": "display_data"
    }
   ],
   "source": [
    "counts, bins = np.histogram(training_data, bins)\n",
    "plt.stairs(counts, bins)\n",
    "counts, bins = np.histogram(resample_centers[resample_training_data], bins)\n",
    "plt.stairs(counts, bins)\n",
    "plt.grid()\n",
    "plt.show()"
   ]
  },
  {
   "cell_type": "code",
   "execution_count": 64,
   "metadata": {},
   "outputs": [
    {
     "name": "stdout",
     "output_type": "stream",
     "text": [
      "Symbol Code\n",
      "------ ----\n",
      "9      00\n",
      "7      010\n",
      "11     011\n",
      "10     101\n",
      "8      110\n",
      "6      1001\n",
      "12     1110\n",
      "5      11110\n",
      "13     11111\n",
      "15     100000\n",
      "4      100010\n",
      "14     100011\n",
      "3      1000011\n",
      "2      10000100\n",
      "16     100001011\n",
      "17     1000010100\n",
      "1      10000101011\n",
      "0      100001010101\n",
      "256    1000010101000\n",
      "18     1000010101001\n",
      "Error: 0.0\n",
      "Error: 0.0\n"
     ]
    }
   ],
   "source": [
    "data = list(resample_training_data)\n",
    "encoded, tree = hf.huffman_encode(data)\n",
    "table = hf.huffman_table(tree)\n",
    "\n",
    "# Pretty print the Huffman table\n",
    "print(f\"Symbol Code\\n------ ----\")\n",
    "for i, (k, v) in enumerate(\n",
    "    sorted(hf.huffman_table(tree).items(), key=lambda x: len(x[1]))\n",
    "):\n",
    "    # if i > 10:\n",
    "    #     break\n",
    "    print(f\"{k:<6} {v}\")\n",
    "\n",
    "# Print the bit pattern of the encoded data\n",
    "# print(\"\".join(hf._bits_from_bytes(encoded)))\n",
    "\n",
    "# Encode then decode\n",
    "decoded = hf.huffman_decode(encoded, tree)\n",
    "numbers_decoded = list(decoded)\n",
    "\n",
    "# print(numbers - numbers_decoded)\n",
    "print(\"Error:\", np.linalg.norm(resample_training_data - numbers_decoded))\n",
    "\n",
    "# print(numbers - numbers_decoded)\n",
    "print(\n",
    "    \"Error:\",\n",
    "    np.linalg.norm(\n",
    "        resample_centers[resample_training_data] - resample_centers[numbers_decoded]\n",
    "    ),\n",
    ")"
   ]
  },
  {
   "cell_type": "code",
   "execution_count": 72,
   "metadata": {},
   "outputs": [
    {
     "data": {
      "text/plain": [
       "True"
      ]
     },
     "execution_count": 72,
     "metadata": {},
     "output_type": "execute_result"
    }
   ],
   "source": [
    "np.any(resample_training_data==18)"
   ]
  },
  {
   "cell_type": "code",
   "execution_count": 73,
   "metadata": {},
   "outputs": [
    {
     "name": "stdout",
     "output_type": "stream",
     "text": [
      "100001010100110000101010011000010101001100001010100110000101010011000010101001100001010100110000101010011000010101001100001010100110000101010000\n"
     ]
    },
    {
     "data": {
      "text/plain": [
       "array([3.78947368, 3.78947368, 3.78947368, 3.78947368, 3.78947368,\n",
       "       3.78947368, 3.78947368, 3.78947368, 3.78947368, 3.78947368])"
      ]
     },
     "execution_count": 73,
     "metadata": {},
     "output_type": "execute_result"
    }
   ],
   "source": [
    "data = np.array([18] * 10)\n",
    "encoded = hf._encode(data, table)\n",
    "print(\"\".join(hf._bits_from_bytes(encoded)))\n",
    "\n",
    "encoded = hf._encode(data, table)\n",
    "decoded = hf.huffman_decode(encoded, tree)\n",
    "numbers_decoded = list(decoded)\n",
    "\n",
    "resample_centers[numbers_decoded]\n",
    "# numbers_decoded\n",
    "\n",
    "# print(numbers - numbers_decoded)\n",
    "# print(\"Error:\", np.linalg.norm(training_data - numbers_decoded))"
   ]
  },
  {
   "cell_type": "code",
   "execution_count": 81,
   "metadata": {},
   "outputs": [
    {
     "name": "stdout",
     "output_type": "stream",
     "text": [
      "[[-0.17186779-0.08277068j]\n",
      " [ 0.08015548-0.0381717j ]\n",
      " [-0.1127016 -0.02880509j]\n",
      " [ 0.03514484+0.11328842j]]\n"
     ]
    }
   ],
   "source": [
    "L = 4\n",
    "vec = rng.normal(size=(L,1))+1J*rng.normal(size=(L,1))\n",
    "vec = vec*1\n",
    "\n",
    "x = np.concatenate([vec.real, vec.imag]).squeeze()\n",
    "# print(x)\n",
    "inds = np.searchsorted(resample_bins_, x, side=\"left\")-1\n",
    "# print(inds)\n",
    "encoded = hf._encode(list(inds), table)\n",
    "decoded = hf.huffman_decode(encoded, tree)\n",
    "numbers_decoded = list(decoded)\n",
    "\n",
    "nn = resample_centers[numbers_decoded]\n",
    "pp = nn[:L]+1J*nn[L:]\n",
    "\n",
    "# print(pp.reshape(L,1))\n",
    "print(vec-pp.reshape(L,1))\n",
    "\n"
   ]
  },
  {
   "cell_type": "code",
   "execution_count": null,
   "metadata": {},
   "outputs": [],
   "source": [
    "def encode(vec):\n",
    "    x = np.concatenate([vec.real, vec.imag]).squeeze()\n",
    "    # print(x)\n",
    "    inds = np.searchsorted(resample_bins_, x, side=\"left\")-1\n",
    "    # print(inds)\n",
    "    encoded = hf._encode(list(inds), table)\n",
    "    return encoded"
   ]
  },
  {
   "cell_type": "code",
   "execution_count": null,
   "metadata": {},
   "outputs": [],
   "source": [
    "def decode(encoded):\n",
    "    decoded = hf.huffman_decode(encoded, tree)\n",
    "    numbers_decoded = list(decoded)\n",
    "    nn = resample_centers[numbers_decoded]\n",
    "    pp = nn[:L]+1J*nn[L:]\n",
    "    return pp.reshape(L,1)"
   ]
  },
  {
   "cell_type": "code",
   "execution_count": 38,
   "metadata": {},
   "outputs": [],
   "source": [
    "with open(\"test.p\", \"wb\") as f:\n",
    "    pickle.dump(tree, f)"
   ]
  },
  {
   "cell_type": "code",
   "execution_count": 39,
   "metadata": {},
   "outputs": [
    {
     "name": "stdout",
     "output_type": "stream",
     "text": [
      "Error: 0.0\n"
     ]
    }
   ],
   "source": [
    "with open(\"test.p\", \"rb\") as f:\n",
    "    l_tree = pickle.load(f)\n",
    "\n",
    "encoded, tree = hf.huffman_encode(data)\n",
    "hf._bits_from_bytes(encoded)\n",
    "decoded = hf.huffman_decode(encoded, l_tree)\n",
    "numbers_decoded = np.frombuffer(decoded)\n",
    "\n",
    "# print(numbers - numbers_decoded)\n",
    "print(\"Error:\", np.linalg.norm(training_data - numbers_decoded))"
   ]
  }
 ],
 "metadata": {
  "kernelspec": {
   "display_name": "admm",
   "language": "python",
   "name": "python3"
  },
  "language_info": {
   "codemirror_mode": {
    "name": "ipython",
    "version": 3
   },
   "file_extension": ".py",
   "mimetype": "text/x-python",
   "name": "python",
   "nbconvert_exporter": "python",
   "pygments_lexer": "ipython3",
   "version": "3.11.5"
  }
 },
 "nbformat": 4,
 "nbformat_minor": 2
}
