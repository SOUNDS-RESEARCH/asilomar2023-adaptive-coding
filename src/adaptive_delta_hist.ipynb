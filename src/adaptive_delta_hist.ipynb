{
 "cells": [
  {
   "cell_type": "code",
   "execution_count": 1,
   "metadata": {},
   "outputs": [],
   "source": [
    "import numpy as np\n",
    "import matplotlib.pyplot as plt\n",
    "import pandas as pd\n",
    "import admm_fq_hist as adf\n",
    "import utils\n",
    "import importlib\n",
    "import seaborn as sns\n",
    "import pickle\n",
    "\n",
    "\n",
    "# import cvxpy\n",
    "def getPart(index) -> int:\n",
    "    return int(np.floor(index / part_len))\n",
    "\n"
   ]
  },
  {
   "cell_type": "code",
   "execution_count": 2,
   "metadata": {},
   "outputs": [
    {
     "data": {
      "text/plain": [
       "<module 'admm_fq_hist' from '/home/matthias/repos/asilomar2023/asilomar2023sim/src/admm_fq_hist.py'>"
      ]
     },
     "execution_count": 2,
     "metadata": {},
     "output_type": "execute_result"
    }
   ],
   "source": [
    "importlib.reload(adf)"
   ]
  },
  {
   "cell_type": "code",
   "execution_count": 3,
   "metadata": {},
   "outputs": [],
   "source": [
    "rng = np.random.default_rng()"
   ]
  },
  {
   "cell_type": "code",
   "execution_count": 4,
   "metadata": {},
   "outputs": [],
   "source": [
    "L = 4"
   ]
  },
  {
   "cell_type": "code",
   "execution_count": 5,
   "metadata": {},
   "outputs": [],
   "source": [
    "nw = adf.Network(L, rng)\n",
    "nw.addNode(0)\n",
    "nw.addNode(1)\n",
    "nw.addNode(2)\n",
    "nw.setConnection(0, [1])\n",
    "nw.setConnection(1, [2])\n",
    "nw.setConnection(2, [0])"
   ]
  },
  {
   "cell_type": "code",
   "execution_count": 6,
   "metadata": {},
   "outputs": [],
   "source": [
    "SNR = 20\n",
    "SNR_c = np.inf\n",
    "rho = 1\n",
    "stepsize = 0.8\n",
    "eta = 0.98\n",
    "M = nw.N\n",
    "nr_samples = 100000\n",
    "partitions = 2\n",
    "part_len = int(nr_samples / partitions)\n",
    "runs = 20"
   ]
  },
  {
   "cell_type": "code",
   "execution_count": 7,
   "metadata": {},
   "outputs": [],
   "source": [
    "def saveTransmissionHist(node1, node2, var_name, delta, var):\n",
    "    if delta not in transmission_hist:\n",
    "        transmission_hist[delta] = {}\n",
    "    if var_name not in transmission_hist[delta]:\n",
    "        transmission_hist[delta][var_name] = {}\n",
    "    if node1 not in transmission_hist[delta][var_name]:\n",
    "        transmission_hist[delta][var_name][node1] = {}\n",
    "    if node2 not in transmission_hist[delta][var_name][node1]:\n",
    "        transmission_hist[delta][var_name][node1][node2] = {}\n",
    "    # transmission_hist[delta][var_name][node1][node2].append(var)\n",
    "    d = np.concatenate([np.real(var), np.imag(var)])\n",
    "    vals, counts = np.unique(d, return_counts=True)\n",
    "    for i, val in enumerate(vals):\n",
    "        if val not in transmission_hist[delta][var_name][node1][node2]:\n",
    "            transmission_hist[delta][var_name][node1][node2][val] = 0\n",
    "        transmission_hist[delta][var_name][node1][node2][val] += counts[i]\n",
    "    pass"
   ]
  },
  {
   "cell_type": "code",
   "execution_count": 8,
   "metadata": {},
   "outputs": [
    {
     "name": "stdout",
     "output_type": "stream",
     "text": [
      "Run: 0\n",
      "Run: 1\n",
      "Run: 2\n",
      "Run: 3\n",
      "Run: 4\n",
      "Run: 5\n",
      "Run: 6\n",
      "Run: 7\n",
      "Run: 8\n",
      "Run: 9\n",
      "Run: 10\n",
      "Run: 11\n",
      "Run: 12\n",
      "Run: 13\n",
      "Run: 14\n",
      "Run: 15\n",
      "Run: 16\n",
      "Run: 17\n",
      "Run: 18\n",
      "Run: 19\n"
     ]
    }
   ],
   "source": [
    "transmission_hist = {}\n",
    "deltas = [1e-1, 1e-2, 1e-3, 1e-4, 1e-5, 1e-6, 1e-7, 1e-8, 1e-9, 1e-10, 1e-11, 1e-12]\n",
    "for run in range(runs):\n",
    "    print(\"Run:\", run)\n",
    "    true_norms = [1.0, 1.0, 1.0, 1.0]\n",
    "\n",
    "    u = rng.normal(size=(nr_samples, 1))\n",
    "    clean_signal: np.ndarray = u / u.max()\n",
    "\n",
    "    clean_signal = clean_signal / clean_signal.std(axis=0) * 0.25\n",
    "\n",
    "    ## %%\n",
    "    h = {}\n",
    "    hf = {}\n",
    "    noisy_signals = np.empty((0, M))\n",
    "    for part in range(partitions):\n",
    "        h_, hf_ = utils.generateRandomIRs(L, M, true_norms, rng)\n",
    "        h[part] = h_\n",
    "        hf[part] = hf_\n",
    "        noisy_signals_ = utils.getNoisySignal(\n",
    "            clean_signal[part * part_len : (part + 1) * part_len], h_, SNR, rng\n",
    "        )\n",
    "        noisy_signals = np.concatenate([noisy_signals, noisy_signals_])\n",
    "\n",
    "    ## %%\n",
    "    hopsize = L\n",
    "    npm = []\n",
    "    SNR_c_r = 10 ** (SNR_c / 20)\n",
    "    nw.setOnTransmit(saveTransmissionHist)\n",
    "    nw.reset()\n",
    "    nw.setParameters(rho, stepsize, eta, 1, 0.0, SNR_c_r)\n",
    "    nw.setDeltas(deltas)\n",
    "    for k_admm_fq in range(0, nr_samples - 2 * L, hopsize):\n",
    "        nw.step(noisy_signals[k_admm_fq : k_admm_fq + 2 * L, :])\n",
    "    #     error = []\n",
    "    #     for m in range(M):\n",
    "    #         node: adf.NodeProcessor = nw.nodes[m]\n",
    "    #         error.append(\n",
    "    #             utils.NPM(node.getEstimate(), hf[getPart(k_admm_fq)][:, m, None])\n",
    "    #         )\n",
    "    #     # npm.append(np.mean(error))\n",
    "    #     npm.append(error)\n",
    "    # npm = np.asarray(npm)"
   ]
  },
  {
   "cell_type": "code",
   "execution_count": 9,
   "metadata": {},
   "outputs": [],
   "source": [
    "with open(\"../data/transmission_hist.p\", \"wb\") as f:\n",
    "    pickle.dump(transmission_hist, f)"
   ]
  },
  {
   "cell_type": "code",
   "execution_count": null,
   "metadata": {},
   "outputs": [],
   "source": [
    "with open(\"../data/transmission_hist.p\", \"rb\") as f:\n",
    "    transmission_hist = pickle.load(f)"
   ]
  },
  {
   "cell_type": "code",
   "execution_count": 62,
   "metadata": {},
   "outputs": [
    {
     "data": {
      "image/png": "[encoded data removed]",
      "text/plain": [
       "<Figure size 339.007x135.603 with 1 Axes>"
      ]
     },
     "metadata": {},
     "output_type": "display_data"
    }
   ],
   "source": [
    "textwidth = 245\n",
    "linewidth = 1.2\n",
    "plt.rcParams.update(\n",
    "    {\n",
    "        \"font.family\": \"serif\",  # use serif/main font for text elements\n",
    "        \"text.usetex\": False,  # don't use inline math for ticks (not on docker image)\n",
    "        \"pgf.rcfonts\": False,  # don't setup fonts from rc parameters\n",
    "        \"font.size\": 8,\n",
    "    }\n",
    ")\n",
    "fig, ax = plt.subplots(figsize=utils.set_size(textwidth, 1.0, (1, 1), 0.4))\n",
    "var = 0.00000005\n",
    "delta = 0.0001\n",
    "bins = np.asarray(list(transmission_hist[delta][\"res_local_q\"][1][0].keys()))\n",
    "counts = np.asarray(list(transmission_hist[delta][\"res_local_q\"][1][0].values()))\n",
    "density = counts / (sum(counts) * delta)\n",
    "ax.bar(\n",
    "    bins,\n",
    "    density,\n",
    "    width=delta,\n",
    "    color=\"b\",\n",
    "    alpha=0.3,\n",
    "    label=rf\"$\\Delta = {delta}$\"\n",
    ")\n",
    "x = np.linspace(-10 * delta, 10 * delta, 100)\n",
    "y = 1 / (np.sqrt(2 * np.pi * var)) * np.exp(-1 / 2 * x**2 / var)*0.65\n",
    "ax.plot(x, y, \"b-.\", linewidth=1)\n",
    "\n",
    "var = 0.00000003\n",
    "delta = 0.00001\n",
    "bins = np.asarray(list(transmission_hist[delta][\"res_local_q\"][1][0].keys()))\n",
    "counts = np.asarray(list(transmission_hist[delta][\"res_local_q\"][1][0].values()))\n",
    "density = counts / (sum(counts) * delta)\n",
    "ax.bar(\n",
    "    bins,\n",
    "    density,\n",
    "    width=delta,\n",
    "    color=\"r\",\n",
    "    alpha=0.3,\n",
    "    label=rf\"$\\Delta = {delta}$\"\n",
    ")\n",
    "x = np.linspace(-100 * delta, 100 * delta, 100)\n",
    "y = 1 / (np.sqrt(2 * np.pi * var)) * np.exp(-1 / 2 * x**2 / var)*0.65\n",
    "ax.plot(x, y, \"r-.\", linewidth=1)\n",
    "\n",
    "ax.set_xlim(-100 * delta, 100 * delta)\n",
    "ax.set_ylim(0,4000)\n",
    "# ax.grid()\n",
    "ax.set_xlabel(\"Quantized residual value\")\n",
    "ax.set_ylabel(\"Density\")\n",
    "plt.tight_layout(pad=0.5)\n",
    "plt.legend()\n",
    "plt.show()\n",
    "utils.savefig(fig, \"dist-example\", \"pdf\")"
   ]
  }
 ],
 "metadata": {
  "kernelspec": {
   "display_name": "admm",
   "language": "python",
   "name": "python3"
  },
  "language_info": {
   "codemirror_mode": {
    "name": "ipython",
    "version": 3
   },
   "file_extension": ".py",
   "mimetype": "text/x-python",
   "name": "python",
   "nbconvert_exporter": "python",
   "pygments_lexer": "ipython3",
   "version": "3.11.5"
  }
 },
 "nbformat": 4,
 "nbformat_minor": 2
}
